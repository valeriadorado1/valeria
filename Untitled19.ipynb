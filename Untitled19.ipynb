{
  "nbformat": 4,
  "nbformat_minor": 0,
  "metadata": {
    "colab": {
      "provenance": [],
      "authorship_tag": "ABX9TyP2bRfo/WDBpwBnGr+G6WHA",
      "include_colab_link": true
    },
    "kernelspec": {
      "name": "python3",
      "display_name": "Python 3"
    },
    "language_info": {
      "name": "python"
    }
  },
  "cells": [
    {
      "cell_type": "markdown",
      "metadata": {
        "id": "view-in-github",
        "colab_type": "text"
      },
      "source": [
        "<a href=\"https://colab.research.google.com/github/valeriadorado1/valeria/blob/main/Untitled19.ipynb\" target=\"_parent\"><img src=\"https://colab.research.google.com/assets/colab-badge.svg\" alt=\"Open In Colab\"/></a>"
      ]
    },
    {
      "cell_type": "code",
      "execution_count": 40,
      "metadata": {
        "colab": {
          "base_uri": "https://localhost:8080/"
        },
        "id": "afyEwDO180GM",
        "outputId": "9670fccb-3857-4d83-e29d-40e4e982b961"
      },
      "outputs": [
        {
          "output_type": "stream",
          "name": "stdout",
          "text": [
            "Dame el nombre: tu\n",
            "dame la calificacion: 7\n",
            "Dame el nombre: hr\n",
            "dame la calificacion: 6\n",
            "Dame el nombre: gf\n",
            "dame la calificacion: 8\n",
            "Dame el nombre: bgv\n",
            "dame la calificacion: 6\n",
            "Dame el nombre: bg\n",
            "dame la calificacion: 5\n",
            "Dame el nombre: g\n",
            "dame la calificacion: 4\n",
            "Dame el nombre: vale\n",
            "dame la calificacion: 9\n",
            "Dame el nombre: isis\n",
            "dame la calificacion: 9\n",
            "Dame el nombre: jav\n",
            "dame la calificacion: 10\n",
            "Dame el nombre: jdhj\n",
            "dame la calificacion: 6\n",
            "Alumnos con mayor promedio\n",
            "vale\n",
            "isis\n",
            "jav\n"
          ]
        }
      ],
      "source": [
        "# Declaración de variables\n",
        "Calificaciones = []\n",
        "nombres = []\n",
        "nombres_mayores = []\n",
        "def leer (c, n):\n",
        "    for i in range(10):\n",
        "       n.append (input(f\"Dame el nombre: \"))\n",
        "       c.append(input(\"dame la calificacion: \"))\n",
        "\n",
        "def alumno_mayor (c, n, nm):\n",
        "    for i in range (10):\n",
        "       if float(c[i]) > 8.5:\n",
        "           nm.append(n[i])\n",
        "\n",
        "def resultado (nm):\n",
        "    print(\"Alumnos con mayor promedio\")\n",
        "    for i in nm:\n",
        "        print (f\"{i}\")\n",
        "\n",
        "leer(Calificaciones, nombres)\n",
        "alumno_mayor(Calificaciones, nombres, nombres_mayores)\n",
        "resultado(nombres_mayores)"
      ]
    }
  ]
}